{
 "cells": [
  {
   "cell_type": "code",
   "execution_count": 125,
   "metadata": {
    "collapsed": true
   },
   "outputs": [],
   "source": [
    "import pandas as pd\n",
    "import numpy as np"
   ]
  },
  {
   "cell_type": "code",
   "execution_count": 126,
   "metadata": {},
   "outputs": [],
   "source": [
    "df1 = pd.read_csv(\"athlete_events.csv\")\n",
    "df2 = pd.read_csv(\"./txt/results_athletics.txt\", sep=\"\\t\")"
   ]
  },
  {
   "cell_type": "code",
   "execution_count": 127,
   "metadata": {},
   "outputs": [],
   "source": [
    "# Change names to lower case\n",
    "df1[\"Name\"] = df1[\"Name\"].str.lower()\n",
    "df2[\"Name\"] = df2[\"Name\"].str.lower()"
   ]
  },
  {
   "cell_type": "code",
   "execution_count": 128,
   "metadata": {},
   "outputs": [
    {
     "name": "stdout",
     "output_type": "stream",
     "text": [
      "   ID       Name Sex   Age  Height  Weight   Team  NOC        Games  Year  \\\n",
      "0   1  a dijiang   M  24.0   180.0    80.0  China  CHN  1992 Summer  1992   \n",
      "1   2   a lamusi   M  23.0   170.0    60.0  China  CHN  2012 Summer  2012   \n",
      "\n",
      "   Season       City       Sport                         Event Medal  \n",
      "0  Summer  Barcelona  Basketball   Basketball Men's Basketball   NaN  \n",
      "1  Summer     London        Judo  Judo Men's Extra-Lightweight   NaN  \n"
     ]
    }
   ],
   "source": [
    "print(df1.head(2))"
   ]
  },
  {
   "cell_type": "code",
   "execution_count": 129,
   "metadata": {
    "scrolled": true
   },
   "outputs": [
    {
     "name": "stdout",
     "output_type": "stream",
     "text": [
      "  Sex      Sport       Event City  Year   Medal  Place                   Name  \\\n",
      "0   M  Athletics  10000M Men  Rio  2016    Gold    1.0          mohamed farah   \n",
      "1   M  Athletics  10000M Men  Rio  2016  Silver    2.0  paul kipngetich tanui   \n",
      "\n",
      "   NOC    Result  \n",
      "0  GBR  27:05.17  \n",
      "1  KEN  27:05.64  \n"
     ]
    }
   ],
   "source": [
    "print(df2.head(2))"
   ]
  },
  {
   "cell_type": "code",
   "execution_count": 137,
   "metadata": {},
   "outputs": [
    {
     "name": "stdout",
     "output_type": "stream",
     "text": [
      "Sex\n",
      "['F' 'M']\n",
      "['F' 'M']\n",
      "\n",
      "Sport\n",
      "['Aeronautics' 'Alpine Skiing' 'Alpinism' 'Archery' 'Art Competitions'\n",
      " 'Athletics' 'Badminton' 'Baseball' 'Basketball' 'Basque Pelota'\n",
      " 'Beach Volleyball' 'Biathlon' 'Bobsleigh' 'Boxing' 'Canoeing' 'Cricket'\n",
      " 'Croquet' 'Cross Country Skiing' 'Curling' 'Cycling' 'Diving'\n",
      " 'Equestrianism' 'Fencing' 'Figure Skating' 'Football' 'Freestyle Skiing'\n",
      " 'Golf' 'Gymnastics' 'Handball' 'Hockey' 'Ice Hockey' 'Jeu De Paume' 'Judo'\n",
      " 'Lacrosse' 'Luge' 'Military Ski Patrol' 'Modern Pentathlon' 'Motorboating'\n",
      " 'Nordic Combined' 'Polo' 'Racquets' 'Rhythmic Gymnastics' 'Roque' 'Rowing'\n",
      " 'Rugby' 'Rugby Sevens' 'Sailing' 'Shooting' 'Short Track Speed Skating'\n",
      " 'Skeleton' 'Ski Jumping' 'Snowboarding' 'Softball' 'Speed Skating'\n",
      " 'Swimming' 'Synchronized Swimming' 'Table Tennis' 'Taekwondo' 'Tennis'\n",
      " 'Trampolining' 'Triathlon' 'Tug-Of-War' 'Volleyball' 'Water Polo'\n",
      " 'Weightlifting' 'Wrestling']\n",
      "['Athletics']\n",
      "\n",
      "Event(HEAD)\n",
      "[\"Athletics Men's 1,500 metres\" \"Athletics Men's 1,500 metres Walk\"\n",
      " \"Athletics Men's 1,600 metres Medley Relay\"\n",
      " \"Athletics Men's 10 kilometres Walk\" \"Athletics Men's 10 mile Walk\"\n",
      " \"Athletics Men's 10,000 metres\" \"Athletics Men's 100 metres\"\n",
      " \"Athletics Men's 110 metres Hurdles\"\n",
      " \"Athletics Men's 2,500 metres Steeplechase\"\n",
      " \"Athletics Men's 2,590 metres Steeplechase\"]\n",
      "['10000M Men' '10000M Women' '100M Hurdles Women' '100M Men' '100M Women'\n",
      " '110M Hurdles Men' '1500M Men' '1500M Women' '200M Men' '200M Women']\n",
      "\n",
      "City\n",
      "['Albertville' 'Amsterdam' 'Antwerpen' 'Athina' 'Atlanta' 'Barcelona'\n",
      " 'Beijing' 'Berlin' 'Calgary' 'Chamonix' \"Cortina d'Ampezzo\"\n",
      " 'Garmisch-Partenkirchen' 'Grenoble' 'Helsinki' 'Innsbruck' 'Lake Placid'\n",
      " 'Lillehammer' 'London' 'Los Angeles' 'Melbourne' 'Mexico City' 'Montreal'\n",
      " 'Moskva' 'Munich' 'Nagano' 'Oslo' 'Paris' 'Rio de Janeiro' 'Roma'\n",
      " 'Salt Lake City' 'Sankt Moritz' 'Sapporo' 'Sarajevo' 'Seoul' 'Sochi'\n",
      " 'Squaw Valley' 'St. Louis' 'Stockholm' 'Sydney' 'Tokyo' 'Torino'\n",
      " 'Vancouver']\n",
      "['Amsterdam' 'Antwerp' 'Athens' 'Atlanta' 'Barcelona' 'Beijing' 'Berlin'\n",
      " 'Helsinki' 'London' 'Los Angeles' 'Melbourne / Stockholm' 'Mexico'\n",
      " 'Montreal' 'Moscow' 'Munich' 'Paris' 'Rio' 'Rome' 'Seoul' 'St Louis'\n",
      " 'Stockholm' 'Sydney' 'Tokyo']\n",
      "\n",
      "Year\n",
      "[1896 1900 1904 1906 1908 1912 1920 1924 1928 1932 1936 1948 1952 1956 1960\n",
      " 1964 1968 1972 1976 1980 1984 1988 1992 1994 1996 1998 2000 2002 2004 2006\n",
      " 2008 2010 2012 2014 2016]\n",
      "[1896 1900 1904 1908 1912 1920 1924 1928 1932 1936 1948 1952 1956 1960 1964\n",
      " 1968 1972 1976 1980 1984 1988 1992 1996 2000 2004 2008 2012 2016]\n",
      "\n",
      "Medal\n",
      "[nan 'Gold' 'Bronze' 'Silver']\n",
      "['Gold' 'Silver' 'Bronze' nan]\n",
      "\n",
      "Name(HEAD)\n",
      "['  gabrielle marie \"gabby\" adcock (white-)'\n",
      " ' eleonora margarida josephina scmitt' ' jean hauptmanns'\n",
      " ' luis ngel fernando de los santos grossi' ' th anh' ' th ngn thng'\n",
      " ' tin tun' 'a dijiang' 'a lamusi' 'a. aanantha sambu mayavo']\n",
      "['-' 'a baser wasiqi' 'a jesus garcia' 'a. abrahams' 'a. cocca'\n",
      " 'a. thibeau' 'a. wyatt' 'a.b. mole' 'aadam khamis' 'aarik wilson']\n",
      "\n",
      "NOC\n",
      "['CHN' 'DEN' 'NED' 'USA' 'FIN' 'NOR' 'ROU' 'EST' 'FRA' 'MAR' 'ESP' 'EGY'\n",
      " 'IRI' 'BUL' 'ITA' 'CHA' 'AZE' 'SUD' 'RUS' 'ARG' 'CUB' 'BLR' 'GRE' 'CMR'\n",
      " 'TUR' 'CHI' 'MEX' 'URS' 'NCA' 'HUN' 'NGR' 'ALG' 'KUW' 'BRN' 'PAK' 'IRQ'\n",
      " 'UAR' 'LIB' 'QAT' 'MAS' 'GER' 'CAN' 'IRL' 'AUS' 'RSA' 'ERI' 'TAN' 'JOR'\n",
      " 'TUN' 'LBA' 'BEL' 'DJI' 'PLE' 'COM' 'KAZ' 'BRU' 'IND' 'KSA' 'SYR' 'MDV'\n",
      " 'ETH' 'UAE' 'YAR' 'INA' 'PHI' 'SGP' 'UZB' 'KGZ' 'TJK' 'EUN' 'JPN' 'CGO'\n",
      " 'SUI' 'BRA' 'FRG' 'GDR' 'MON' 'ISR' 'URU' 'SWE' 'ISV' 'SRI' 'ARM' 'CIV'\n",
      " 'KEN' 'BEN' 'UKR' 'GBR' 'GHA' 'SOM' 'LAT' 'NIG' 'MLI' 'AFG' 'POL' 'CRC'\n",
      " 'PAN' 'GEO' 'SLO' 'CRO' 'GUY' 'NZL' 'POR' 'PAR' 'ANG' 'VEN' 'COL' 'BAN'\n",
      " 'PER' 'ESA' 'PUR' 'UGA' 'HON' 'ECU' 'TKM' 'MRI' 'SEY' 'TCH' 'LUX' 'MTN'\n",
      " 'CZE' 'SKN' 'TTO' 'DOM' 'VIN' 'JAM' 'LBR' 'SUR' 'NEP' 'MGL' 'AUT' 'PLW'\n",
      " 'LTU' 'TOG' 'NAM' 'AHO' 'ISL' 'ASA' 'SAM' 'RWA' 'DMA' 'HAI' 'MLT' 'CYP'\n",
      " 'GUI' 'BIZ' 'YMD' 'KOR' 'THA' 'BER' 'ANZ' 'SCG' 'SLE' 'PNG' 'YEM' 'IOA'\n",
      " 'OMA' 'FIJ' 'VAN' 'MDA' 'YUG' 'BAH' 'GUA' 'SRB' 'IVB' 'MOZ' 'CAF' 'MAD'\n",
      " 'MAL' 'BIH' 'GUM' 'CAY' 'SVK' 'BAR' 'GBS' 'TLS' 'COD' 'GAB' 'SMR' 'LAO'\n",
      " 'BOT' 'ROT' 'CAM' 'PRK' 'SOL' 'SEN' 'CPV' 'CRT' 'GEQ' 'BOL' 'SAA' 'AND'\n",
      " 'ANT' 'ZIM' 'GRN' 'HKG' 'LCA' 'FSM' 'MYA' 'MAW' 'ZAM' 'RHO' 'TPE' 'STP'\n",
      " 'MKD' 'BOH' 'TGA' 'LIE' 'MNE' 'GAM' 'COK' 'ALB' 'WIF' 'SWZ' 'BUR' 'NBO'\n",
      " 'BDI' 'ARU' 'NRU' 'VNM' 'VIE' 'BHU' 'MHL' 'KIR' 'UNK' 'TUV' 'NFL' 'KOS'\n",
      " 'SSD' 'LES']\n",
      "['GBR' 'KEN' 'ETH' 'USA' 'UGA' 'ERI' 'BRN' 'NZL' 'TUR' 'AUS' 'JPN' 'RSA'\n",
      " 'BEL' 'PER' 'BDI' 'CAN' 'QAT' 'TAN' 'MAR' 'ESP' 'RWA' 'IND' 'AUT' 'MEX'\n",
      " 'RUS' 'POR' 'ZIM' 'ALG' 'ITA' 'HUN' 'FRA' 'ARG' 'NOR' 'FRG' 'IRL' 'SUD'\n",
      " 'FIN' 'ROU' 'NED' 'TUN' 'URS' 'YUG' 'COL' 'GDR' 'CRC' 'PHI' 'EUA' 'POL'\n",
      " 'RHO' 'TCH' 'SWE' 'CHI' 'DEN' 'ISL' 'PAK' 'GUA' 'VIE' 'GER' 'LAT' 'SUI'\n",
      " 'GRE' 'EST' 'KSA' 'UKR' 'ECU' 'BUL' 'SRI' 'BIR' 'CHN' 'TTO' 'BRA' 'JAM'\n",
      " 'CIV' 'AHO' 'SKN' 'BAH' 'NGR' 'ANT' 'GHA' 'SLO' 'BAR' 'CUB' 'INA' 'HON'\n",
      " 'CAF' 'GAM' 'CZE' 'OMA' 'AZE' 'GBS' 'SUR' 'COM' 'HKG' 'BUR' 'MON' 'SGP'\n",
      " 'VAN' 'GAB' 'VIN' 'SEY' 'CGO' 'FSM' 'BAN' 'SOL' 'MDV' 'CHA' 'TGA' 'MHL'\n",
      " 'KIR' 'PLW' 'COK' 'AFG' 'TUV' 'LAO' 'GEQ' 'ASA' 'NAM' 'PAN' 'MAD' 'LUX'\n",
      " 'ZAM' 'CAY' 'EGY' 'LTU' 'PUR' 'GUY' 'IRI' 'MRI' 'BOL' 'GRN' 'CMR' 'MLT'\n",
      " 'NEP' 'IVB' 'STP' 'ANG' 'KOR' 'CYP' 'HAI' 'GEO' 'BLR' 'UZB' 'CRO' 'BWI'\n",
      " 'KUW' 'LBN' 'SEN' 'DJI' 'SRB' 'MAW' 'SWZ' 'EUN' 'BOH' 'VEN' 'SOM' 'YEM'\n",
      " 'GUI' 'NIG' 'LBR' 'DMA' 'URU' 'UAE' 'BOT' 'BIZ' 'JOR' 'KAZ' 'SLE' 'NCA'\n",
      " 'LES' 'DOM' 'MTN' 'SVK' 'MDA' 'PLE' 'SMR' 'ESA' 'MAS' 'ISV' 'SCG' 'MYA'\n",
      " 'ISR' 'MLI' 'PNG' 'KGZ' 'MOZ' 'TPE' 'TOG' 'COD' 'FIJ' 'BEN' 'IOA' 'PAR'\n",
      " 'MKD' 'BRU' nan 'CPV' 'PRK' 'SAM' 'GUM' 'IRQ' 'CAM' 'LIE' 'RU1' 'MNE'\n",
      " 'TJK' 'ALB' 'TKM' 'SYR' 'IOP' 'LCA' 'BER' 'ARM' 'THA' 'LBA' 'SSD' 'ROT'\n",
      " 'MGL' 'AND' 'TLS' 'BIH' 'ARU' 'ZAI' 'ANZ' 'RHN' 'SER']\n"
     ]
    }
   ],
   "source": [
    "# Key Characteristics\n",
    "# 1.\n",
    "k = \"Sex\"\n",
    "temp1 = df1[k].unique()\n",
    "temp2 = df2[k].unique()\n",
    "temp1.sort()\n",
    "temp2.sort()\n",
    "print(k)\n",
    "print(temp1)\n",
    "print(temp2)\n",
    "# 2.\n",
    "print()\n",
    "k = \"Sport\"\n",
    "temp1 = df1[k].unique()\n",
    "temp2 = df2[k].unique()\n",
    "temp1.sort()\n",
    "temp2.sort()\n",
    "print(k)\n",
    "print(temp1)\n",
    "print(temp2)\n",
    "# 3.\n",
    "print()\n",
    "k = \"Event\"\n",
    "print(k + \"(HEAD)\")\n",
    "temp1 = df1[df1[\"Sport\"] == \"Athletics\"][k].unique()\n",
    "temp2 = df2[df2[\"Sport\"] == \"Athletics\"][k].unique()\n",
    "temp1.sort()\n",
    "temp2.sort()\n",
    "print(temp1[:10])\n",
    "print(temp2[:10])\n",
    "# 4.\n",
    "print()\n",
    "k = \"City\"\n",
    "temp1 = df1[k].unique()\n",
    "temp2 = df2[k].unique()\n",
    "temp1.sort()\n",
    "temp2.sort()\n",
    "print(k)\n",
    "print(temp1)\n",
    "print(temp2)\n",
    "# 5.\n",
    "print()\n",
    "k = \"Year\"\n",
    "temp1 = df1[k].unique()\n",
    "temp2 = df2[k].unique()\n",
    "temp1.sort()\n",
    "temp2.sort()\n",
    "print(k)\n",
    "print(temp1)\n",
    "print(temp2)\n",
    "# 6.\n",
    "print()\n",
    "k = \"Medal\"\n",
    "print(k)\n",
    "print(df1[k].unique())\n",
    "print(df2[k].unique())\n",
    "# 8.\n",
    "print()\n",
    "k = \"Name\"\n",
    "print(k + \"(HEAD)\")\n",
    "temp1 = df1[k].unique()\n",
    "temp2 = df2[k].unique()\n",
    "temp1.sort()\n",
    "temp2.sort()\n",
    "print(temp1[:10])\n",
    "print(temp2[:10])\n",
    "# 9.\n",
    "print()\n",
    "k = \"NOC\"\n",
    "print(k)\n",
    "print(df1[k].unique())\n",
    "print(df2[k].unique())"
   ]
  },
  {
   "cell_type": "code",
   "execution_count": 138,
   "metadata": {},
   "outputs": [
    {
     "name": "stdout",
     "output_type": "stream",
     "text": [
      "INTERSECTION\n",
      "{'Curling', 'Rowing', 'Cross Country Skiing', 'Volleyball', 'Freestyle Skiing', 'Triathlon', 'Modern Pentathlon', 'Rugby', 'Handball', 'Alpine Skiing', 'Basketball', 'Tennis', 'Figure Skating', 'Archery', 'Football', 'Sailing', 'Taekwondo', 'Athletics', 'Ski Jumping', 'Luge', 'Fencing', 'Skeleton', 'Bobsleigh', 'Badminton', 'Nordic Combined', 'Ice Hockey', 'Water Polo', 'Shooting', 'Golf', 'Table Tennis', 'Hockey', 'Speed Skating', 'Diving', 'Boxing', 'Weightlifting', 'Swimming', 'Biathlon', 'Beach Volleyball', 'Judo'}\n",
      "\n",
      "DIFF AND IN DF1\n",
      "{'Baseball', 'Gymnastics', 'Art Competitions', 'Military Ski Patrol', 'Aeronautics', 'Croquet', 'Equestrianism', 'Softball', 'Synchronized Swimming', 'Rhythmic Gymnastics', 'Motorboating', 'Lacrosse', 'Short Track Speed Skating', 'Roque', 'Tug-Of-War', 'Cycling', 'Canoeing', 'Trampolining', 'Rugby Sevens', 'Racquets', 'Cricket', 'Snowboarding', 'Basque Pelota', 'Jeu De Paume', 'Wrestling', 'Alpinism', 'Polo'}\n",
      "\n",
      "DIFF AND IN DF2\n",
      "{'Canoe Slalom', 'Cycling Track', 'Skateboarding', 'Surfing', 'Gymnastics Artistic', 'Sport Climbing', 'Equestrian  Dressage', 'Karate', 'Snowboard', 'Cycling Bmx', 'Cycling Road', 'Equestrian Jumping', 'Artistic Swimming', 'Equestrian Eventing', 'Canoe Sprint', 'Marathon Swimming', 'Gymnastics Rhythmic', 'Wrestling Freestyle', 'Wrestling Greco Roman', 'Baseball Softball', 'Short Track', 'Cycling Mountain Bike', 'Trampoline'}\n"
     ]
    }
   ],
   "source": [
    "# Examine Sports Key\n",
    "df1_sports = df1[\"Sport\"].unique()\n",
    "df2_sports = ['Archery', 'Artistic Swimming', 'Athletics', 'Badminton', 'Baseball Softball', 'Basketball', 'Beach Volleyball', 'Boxing', 'Canoe Slalom', 'Canoe Sprint', 'Cycling Bmx', 'Cycling Mountain Bike', 'Cycling Road', 'Cycling Track', 'Diving', 'Equestrian  Dressage', 'Equestrian Eventing', 'Equestrian Jumping', 'Fencing', 'Football', 'Golf', 'Gymnastics Artistic', 'Gymnastics Rhythmic', 'Handball', 'Hockey', 'Judo', 'Karate', 'Marathon Swimming', 'Modern Pentathlon', 'Rowing', 'Rugby', 'Sailing', 'Shooting', 'Skateboarding', 'Sport Climbing', 'Surfing', 'Swimming', 'Table Tennis', 'Taekwondo', 'Tennis', 'Trampoline', 'Triathlon', 'Volleyball', 'Water Polo', 'Weightlifting', 'Wrestling Freestyle', 'Wrestling Greco Roman', 'Alpine Skiing', 'Biathlon', 'Bobsleigh', 'Cross Country Skiing', 'Curling', 'Figure Skating', 'Freestyle Skiing', 'Ice Hockey', 'Luge', 'Nordic Combined', 'Short Track', 'Skeleton', 'Ski Jumping', 'Snowboard', 'Speed Skating']\n",
    "intersect = set(df1_sports) & set(df2_sports)\n",
    "print(\"INTERSECTION\")\n",
    "print(intersect)\n",
    "print()\n",
    "print(\"DIFF AND IN DF1\")\n",
    "print(set(df1_sports) - intersect)\n",
    "print()\n",
    "print(\"DIFF AND IN DF2\")\n",
    "print(set(df2_sports) - intersect)"
   ]
  },
  {
   "cell_type": "code",
   "execution_count": 139,
   "metadata": {},
   "outputs": [
    {
     "name": "stdout",
     "output_type": "stream",
     "text": [
      "DF2 RATIO IN INTERSECTION\n",
      "0.2943903991271934\n"
     ]
    }
   ],
   "source": [
    "# Examine Name Key\n",
    "df1_names = df1[\"Name\"].unique()\n",
    "df2_names = df2[\"Name\"].unique()\n",
    "intersect = set(df1_names) & set(df2_names)\n",
    "print(\"DF2 RATIO IN INTERSECTION\")\n",
    "print(len(intersect) / len(df2_names))"
   ]
  },
  {
   "cell_type": "code",
   "execution_count": 140,
   "metadata": {
    "scrolled": true
   },
   "outputs": [
    {
     "name": "stdout",
     "output_type": "stream",
     "text": [
      "DF2 MISSING Examples\n",
      "['nikolay avilov', 'otto bengtsson', 'michel thã\\x89ato', 'qiuyan huang']\n"
     ]
    }
   ],
   "source": [
    "# Missing Examples\n",
    "print(\"DF2 MISSING Examples\")\n",
    "df2_diff = list(set(df2_names) - intersect)\n",
    "print(df2_diff[1:5])"
   ]
  },
  {
   "cell_type": "code",
   "execution_count": 141,
   "metadata": {},
   "outputs": [
    {
     "name": "stdout",
     "output_type": "stream",
     "text": [
      "     Sex      Sport          Event      City  Year   Medal  Place  \\\n",
      "6971   M  Athletics  Decathlon Men  Montreal  1976  Bronze    3.0   \n",
      "7002   M  Athletics  Decathlon Men    Mexico  1968     NaN    4.0   \n",
      "7620   M  Athletics  Decathlon Men    Munich  1972    Gold    1.0   \n",
      "\n",
      "                Name  NOC Result  \n",
      "6971  nikolay avilov  URS   8369  \n",
      "7002  nikolay avilov  URS   7909  \n",
      "7620  nikolay avilov  URS   8454  \n",
      "\n",
      "         ID                       Name Sex   Age  Height  Weight  \\\n",
      "11199  6123  mykola viktorovych avilov   M  27.0   191.0    89.0   \n",
      "\n",
      "               Team  NOC        Games  Year  Season      City      Sport  \\\n",
      "11199  Soviet Union  URS  1976 Summer  1976  Summer  Montreal  Athletics   \n",
      "\n",
      "                           Event   Medal  \n",
      "11199  Athletics Men's Decathlon  Bronze  \n"
     ]
    }
   ],
   "source": [
    "print(df2[df2[\"Name\"] == \"nikolay avilov\"])\n",
    "df1_ath = df1[df1[\"Sport\"] == \"Athletics\"]\n",
    "#print(df1_ath[\"Event\"].unique())\n",
    "df1_ath_dec = df1_ath[df1_ath[\"Event\"] == \"Athletics Men's Decathlon\"]\n",
    "print()\n",
    "print(df1_ath_dec[df1_ath_dec[\"Year\"] == 1976].head(1))"
   ]
  },
  {
   "cell_type": "code",
   "execution_count": 142,
   "metadata": {},
   "outputs": [
    {
     "name": "stdout",
     "output_type": "stream",
     "text": [
      "      Sex      Sport         Event                   City  Year   Medal  \\\n",
      "210     M  Athletics    10000M Men               Helsinki  1952    Gold   \n",
      "499     M  Athletics    10000M Men                 London  1948    Gold   \n",
      "5242    M  Athletics     5000M Men               Helsinki  1952    Gold   \n",
      "5483    M  Athletics     5000M Men                 London  1948  Silver   \n",
      "10817   M  Athletics  Marathon Men               Helsinki  1952    Gold   \n",
      "11806   M  Athletics  Marathon Men  Melbourne / Stockholm  1956     NaN   \n",
      "\n",
      "       Place           Name  NOC     Result  \n",
      "210      1.0  emil zãtopek  TCH    29:17.0  \n",
      "499      1.0  emil zãtopek  TCH    29:59.6  \n",
      "5242     1.0  emil zãtopek  TCH    14:06.6  \n",
      "5483     2.0  emil zãtopek  TCH    14:17.8  \n",
      "10817    1.0  emil zãtopek  TCH  2:23:03.2  \n",
      "11806    6.0  emil zãtopek  TCH    2:29:34  \n",
      "\n",
      "            ID         Name Sex   Age  Height  Weight            Team  NOC  \\\n",
      "268014  134080  emil ztopek   M  29.0   182.0    72.0  Czechoslovakia  TCH   \n",
      "\n",
      "              Games  Year  Season      City      Sport  \\\n",
      "268014  1952 Summer  1952  Summer  Helsinki  Athletics   \n",
      "\n",
      "                           Event Medal  \n",
      "268014  Athletics Men's Marathon  Gold  \n"
     ]
    }
   ],
   "source": [
    "print(df2[df2[\"Name\"] == \"emil zãtopek\"])\n",
    "#print(df1_ath[\"Event\"].unique())\n",
    "df1_ath_mar = df1_ath[df1_ath[\"Event\"] == \"Athletics Men's Marathon\"]\n",
    "print()\n",
    "print(df1_ath_mar[(df1_ath_mar[\"Year\"] == 1952) & (df1_ath_mar[\"Medal\"] == \"Gold\")].head(1))"
   ]
  },
  {
   "cell_type": "code",
   "execution_count": 152,
   "metadata": {},
   "outputs": [
    {
     "name": "stdout",
     "output_type": "stream",
     "text": [
      "  Sex      Sport       Event City  Year   Medal  Place  \\\n",
      "0   M  Athletics  10000M Men  Rio  2016  Silver    2.0   \n",
      "1   M  Athletics  10000M Men  Rio  2016     NaN    4.0   \n",
      "2   M  Athletics  10000M Men  Rio  2016     NaN    5.0   \n",
      "3   M  Athletics  10000M Men  Rio  2016     NaN    6.0   \n",
      "4   M  Athletics   5000M Men  Rio  2016     NaN    8.0   \n",
      "\n",
      "                      Name  NOC    Result   Age  Height  Weight  \n",
      "0    paul kipngetich tanui  KEN  27:05.64  25.0   168.0    47.0  \n",
      "1          yigrem demelash  ETH  27:06.27  22.0   167.0    48.0  \n",
      "2               galen rupp  USA  27:08.92  30.0   181.0    61.0  \n",
      "3  joshua kiprui cheptegei  UGA  27:10.06  19.0     NaN     NaN  \n",
      "4  joshua kiprui cheptegei  UGA  13:09.17  19.0     NaN     NaN  \n"
     ]
    }
   ],
   "source": [
    "# Match Examples\n",
    "df1_temp = df1[[\"Name\",\"Year\",\"NOC\", \"Medal\", \"Sex\", \"Age\", \"Height\", \"Weight\"]]\n",
    "df1_temp = df1_temp.drop_duplicates(keep=\"first\")\n",
    "df3 = df2.merge(df1_temp, on=[\"Name\",\"Year\",\"NOC\", \"Medal\", \"Sex\"])\n",
    "print(df3.head())"
   ]
  },
  {
   "cell_type": "code",
   "execution_count": 22,
   "metadata": {},
   "outputs": [
    {
     "name": "stdout",
     "output_type": "stream",
     "text": [
      "271116\n",
      "0\n"
     ]
    }
   ],
   "source": [
    "# Merge Needed Column(s) Age (OPTIONAL: Height, Weight) from DF1 to DF2\n",
    "# TODO"
   ]
  },
  {
   "cell_type": "code",
   "execution_count": null,
   "metadata": {
    "collapsed": true
   },
   "outputs": [],
   "source": []
  }
 ],
 "metadata": {
  "kernelspec": {
   "display_name": "Python 3",
   "language": "python",
   "name": "python3"
  },
  "language_info": {
   "codemirror_mode": {
    "name": "ipython",
    "version": 3
   },
   "file_extension": ".py",
   "mimetype": "text/x-python",
   "name": "python",
   "nbconvert_exporter": "python",
   "pygments_lexer": "ipython3",
   "version": "3.6.2"
  }
 },
 "nbformat": 4,
 "nbformat_minor": 2
}
